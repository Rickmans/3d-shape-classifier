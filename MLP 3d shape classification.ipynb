{
 "cells": [
  {
   "cell_type": "markdown",
   "metadata": {},
   "source": [
    "# Classification of 3d-Shapes using a Multi-Layer Perceptron"
   ]
  },
  {
   "cell_type": "markdown",
   "metadata": {},
   "source": [
    "<div style=\"text-align:right;\">Author: Linus Rickman </div> \n"
   ]
  },
  {
   "cell_type": "markdown",
   "metadata": {},
   "source": [
    "In this project, the Scikit-learn MLPclassifier is used to identify images of 3d shapes. The dataset used consists of randomly generated images of different shapes. The dataset together with the blender script which was used to generate the dataset is found <a href=\"https://github.com/Rickmans/3d-shape-classifier\">here</a>."
   ]
  },
  {
   "cell_type": "markdown",
   "metadata": {},
   "source": [
    "### Imports"
   ]
  },
  {
   "cell_type": "code",
   "execution_count": 1,
   "metadata": {},
   "outputs": [],
   "source": [
    "import sklearn\n",
    "import numpy as np\n",
    "import os\n",
    "import random\n",
    "from skimage import io\n",
    "import matplotlib.pyplot as plt\n",
    "from sklearn.utils import shuffle\n",
    "from sklearn.neural_network import MLPClassifier\n",
    "from sklearn.metrics import plot_confusion_matrix, confusion_matrix, accuracy_score, classification_report\n",
    "from sklearn.model_selection import train_test_split\n",
    "from sklearn import preprocessing"
   ]
  },
  {
   "cell_type": "markdown",
   "metadata": {},
   "source": [
    "### Loading the images"
   ]
  },
  {
   "cell_type": "markdown",
   "metadata": {},
   "source": [
    "First, we load the image data from the folders."
   ]
  },
  {
   "cell_type": "code",
   "execution_count": 2,
   "metadata": {},
   "outputs": [],
   "source": [
    "def get_filenames(dir, suffix):\n",
    "    files = []\n",
    "    for file in os.listdir(dir):\n",
    "        if file.endswith(suffix):\n",
    "            files.append(file)\n",
    "    return files"
   ]
  },
  {
   "cell_type": "code",
   "execution_count": 3,
   "metadata": {},
   "outputs": [],
   "source": [
    "types=[\"Torus\",\"Cube\",\"Sphere\",\"Cone\"]\n",
    "images=[]\n",
    "cls=[]\n",
    "for typ in types:\n",
    "    files=get_filenames(typ,\"png\")\n",
    "    for file in files:\n",
    "        images.append(io.imread(typ+\"/\"+file))\n",
    "        cls.append(typ)"
   ]
  },
  {
   "cell_type": "markdown",
   "metadata": {},
   "source": [
    "### Displaying images "
   ]
  },
  {
   "cell_type": "markdown",
   "metadata": {},
   "source": [
    "Then, we display four image examples from the dataset; a <em>torus,</em> a <em>cube</em>, a <em>sphere</em> and a <em>cone</em>."
   ]
  },
  {
   "cell_type": "code",
   "execution_count": 4,
   "metadata": {},
   "outputs": [
    {
     "data": {
      "image/png": "[encoded data removed]",
      "text/plain": [
       "<Figure size 720x720 with 4 Axes>"
      ]
     },
     "metadata": {
      "needs_background": "light"
     },
     "output_type": "display_data"
    }
   ],
   "source": [
    "fig=plt.figure(figsize=(10,10))\n",
    "im_inx=[8,2505,5002,7502]\n",
    "for i in range(4):\n",
    "    fig.add_subplot(1,4,i+1)\n",
    "    plt.imshow(images[im_inx[i]], cmap='gray', interpolation='nearest')\n",
    "plt.show()"
   ]
  },
  {
   "cell_type": "markdown",
   "metadata": {},
   "source": [
    "### Vectorizing the images and classes "
   ]
  },
  {
   "cell_type": "code",
   "execution_count": 5,
   "metadata": {},
   "outputs": [],
   "source": [
    "type2inx={\"Torus\":0,\"Cube\":1,\"Sphere\":2,\"Cone\":3}\n",
    "inx2type={0:\"Torus\",1:\"Cube\",2:\"Sphere\",3:\"Cone\"}"
   ]
  },
  {
   "cell_type": "code",
   "execution_count": 6,
   "metadata": {},
   "outputs": [],
   "source": [
    "X=[]\n",
    "y=[]\n",
    "for im in images:\n",
    "    X.append(np.asarray(im).ravel())\n",
    "for ty in cls:\n",
    "    y.append(type2inx[ty])"
   ]
  },
  {
   "cell_type": "code",
   "execution_count": 7,
   "metadata": {},
   "outputs": [],
   "source": [
    "X, y = shuffle(X, y, random_state=3)"
   ]
  },
  {
   "cell_type": "markdown",
   "metadata": {},
   "source": [
    "Separating the training and test set."
   ]
  },
  {
   "cell_type": "code",
   "execution_count": 8,
   "metadata": {},
   "outputs": [],
   "source": [
    " X_train, X_test, y_train, y_test = train_test_split(X, y, test_size=0.2, random_state=4)"
   ]
  },
  {
   "cell_type": "markdown",
   "metadata": {},
   "source": [
    "Standardizing the data."
   ]
  },
  {
   "cell_type": "code",
   "execution_count": 9,
   "metadata": {},
   "outputs": [],
   "source": [
    "X_train=preprocessing.scale(X_train) \n",
    "X_test=preprocessing.scale(X_test) "
   ]
  },
  {
   "cell_type": "markdown",
   "metadata": {},
   "source": [
    "### Setting up and training the Multi-layer Perceptron  "
   ]
  },
  {
   "cell_type": "markdown",
   "metadata": {},
   "source": [
    "Using a Multi-layer Perceptron with three hidden layers of sizes 350, 100 and 50 to classify the shapes."
   ]
  },
  {
   "cell_type": "code",
   "execution_count": 10,
   "metadata": {},
   "outputs": [],
   "source": [
    "clf=MLPClassifier(random_state=5, hidden_layer_sizes=(350,100,50 ),verbose=True, max_iter=100)"
   ]
  },
  {
   "cell_type": "code",
   "execution_count": 11,
   "metadata": {},
   "outputs": [
    {
     "name": "stdout",
     "output_type": "stream",
     "text": [
      "Iteration 1, loss = 1.00034889\n",
      "Iteration 2, loss = 0.67728239\n",
      "Iteration 3, loss = 0.50989252\n",
      "Iteration 4, loss = 0.42388543\n",
      "Iteration 5, loss = 0.35509497\n",
      "Iteration 6, loss = 0.29222530\n",
      "Iteration 7, loss = 0.24688898\n",
      "Iteration 8, loss = 0.24178936\n",
      "Iteration 9, loss = 0.21680800\n",
      "Iteration 10, loss = 0.17755227\n",
      "Iteration 11, loss = 0.15849231\n",
      "Iteration 12, loss = 0.13724824\n",
      "Iteration 13, loss = 0.12642191\n",
      "Iteration 14, loss = 0.10615266\n",
      "Iteration 15, loss = 0.10159439\n",
      "Iteration 16, loss = 0.08560093\n",
      "Iteration 17, loss = 0.08156616\n",
      "Iteration 18, loss = 0.10005361\n",
      "Iteration 19, loss = 0.11456135\n",
      "Iteration 20, loss = 0.10432489\n",
      "Iteration 21, loss = 0.12580163\n",
      "Iteration 22, loss = 0.06355053\n",
      "Iteration 23, loss = 0.05435554\n",
      "Iteration 24, loss = 0.06058472\n",
      "Iteration 25, loss = 0.04814573\n",
      "Iteration 26, loss = 0.05549496\n",
      "Iteration 27, loss = 0.06435520\n",
      "Iteration 28, loss = 0.05402657\n",
      "Iteration 29, loss = 0.10459411\n",
      "Iteration 30, loss = 0.11095195\n",
      "Iteration 31, loss = 0.07063989\n",
      "Iteration 32, loss = 0.05682345\n",
      "Iteration 33, loss = 0.03953392\n",
      "Iteration 34, loss = 0.03449622\n",
      "Iteration 35, loss = 0.03695465\n",
      "Iteration 36, loss = 0.02578885\n",
      "Iteration 37, loss = 0.01195779\n",
      "Iteration 38, loss = 0.00863244\n",
      "Iteration 39, loss = 0.00798967\n",
      "Iteration 40, loss = 0.00856468\n",
      "Iteration 41, loss = 0.01263227\n",
      "Iteration 42, loss = 0.03180321\n",
      "Iteration 43, loss = 0.05619053\n",
      "Iteration 44, loss = 0.11172220\n",
      "Iteration 45, loss = 0.07784430\n",
      "Iteration 46, loss = 0.09153924\n",
      "Iteration 47, loss = 0.08220002\n",
      "Iteration 48, loss = 0.08105036\n",
      "Iteration 49, loss = 0.05177958\n",
      "Iteration 50, loss = 0.03773358\n",
      "Training loss did not improve more than tol=0.000100 for 10 consecutive epochs. Stopping.\n"
     ]
    }
   ],
   "source": [
    "clf.fit(X_train,y_train);"
   ]
  },
  {
   "cell_type": "markdown",
   "metadata": {},
   "source": [
    "### Evaluation "
   ]
  },
  {
   "cell_type": "code",
   "execution_count": 12,
   "metadata": {},
   "outputs": [],
   "source": [
    "y_val_pred=clf.predict(X_test)"
   ]
  },
  {
   "cell_type": "code",
   "execution_count": 13,
   "metadata": {},
   "outputs": [
    {
     "name": "stdout",
     "output_type": "stream",
     "text": [
      "              precision    recall  f1-score   support\n",
      "\n",
      "       Torus       0.95      0.86      0.90       525\n",
      "        Cube       0.89      0.88      0.88       505\n",
      "      Sphere       0.89      0.95      0.92       493\n",
      "        Cone       0.73      0.77      0.75       477\n",
      "\n",
      "    accuracy                           0.86      2000\n",
      "   macro avg       0.86      0.86      0.86      2000\n",
      "weighted avg       0.87      0.86      0.87      2000\n",
      "\n",
      "Accuracy score: 0.8645\n"
     ]
    }
   ],
   "source": [
    "print(classification_report(y_test, y_val_pred, target_names=types))\n",
    "print(\"Accuracy score: \"+str(accuracy_score(y_test, y_val_pred))) "
   ]
  },
  {
   "cell_type": "markdown",
   "metadata": {},
   "source": [
    "### Confusion Matrix "
   ]
  },
  {
   "cell_type": "code",
   "execution_count": 14,
   "metadata": {},
   "outputs": [
    {
     "data": {
      "image/png": "[encoded data removed]",
      "text/plain": [
       "<Figure size 432x288 with 2 Axes>"
      ]
     },
     "metadata": {
      "needs_background": "light"
     },
     "output_type": "display_data"
    }
   ],
   "source": [
    "disp = plot_confusion_matrix(clf, X_test, y_test,\n",
    "                                 display_labels=types,\n",
    "                                 cmap=plt.cm.Blues,\n",
    "                                 normalize='true')\n",
    "disp.ax_.set_title(\"Confusion matrix, normalized\")\n",
    "plt.show()"
   ]
  },
  {
   "cell_type": "markdown",
   "metadata": {},
   "source": [
    "### Finding some of the errors"
   ]
  },
  {
   "cell_type": "code",
   "execution_count": 15,
   "metadata": {},
   "outputs": [
    {
     "name": "stdout",
     "output_type": "stream",
     "text": [
      "Image 1: Cone (Predicted: Torus)\n",
      "Image 2: Cube (Predicted: Cone)\n",
      "Image 3: Cone (Predicted: Torus)\n",
      "Image 4: Torus (Predicted: Cone)\n",
      "Image 5: Sphere (Predicted: Cone)\n",
      "Image 6: Torus (Predicted: Cone)\n",
      "Image 7: Torus (Predicted: Cone)\n"
     ]
    },
    {
     "data": {
      "image/png": "[encoded data removed]",
      "text/plain": [
       "<Figure size 720x720 with 7 Axes>"
      ]
     },
     "metadata": {
      "needs_background": "light"
     },
     "output_type": "display_data"
    }
   ],
   "source": [
    "counter=0\n",
    "nr_show=7\n",
    "fig=plt.figure(figsize=(10,10))\n",
    "\n",
    "for n in range(len(y_test)):\n",
    "    if not y_test[n]==y_val_pred[n]:\n",
    "        fig.add_subplot(1,nr_show,counter+1)\n",
    "        print(\"Image \"+str(counter+1)+\": \"+inx2type[y_test[n]]+\" (Predicted: \"+inx2type[y_val_pred[n]]+\")\")\n",
    "        plt.imshow(X_test[n].reshape((28,28)), cmap='gray', interpolation='nearest');\n",
    "        counter+=1\n",
    "        if counter==nr_show: break\n",
    "plt.show()"
   ]
  },
  {
   "cell_type": "markdown",
   "metadata": {},
   "source": [
    "### Example"
   ]
  },
  {
   "cell_type": "code",
   "execution_count": 19,
   "metadata": {},
   "outputs": [
    {
     "name": "stdout",
     "output_type": "stream",
     "text": [
      "Prediction:\n",
      "Torus\t0.0%\n",
      "Cube\t0.1%\n",
      "Sphere\t0.0%\n",
      "Cone\t99.9%\n"
     ]
    },
    {
     "data": {
      "image/png": "[encoded data removed]",
      "text/plain": [
       "<Figure size 432x288 with 1 Axes>"
      ]
     },
     "metadata": {
      "needs_background": "light"
     },
     "output_type": "display_data"
    }
   ],
   "source": [
    "rn=random.randrange(0,len(images))\n",
    "example=images[rn]\n",
    "X_ex=np.asarray(example).ravel()\n",
    "X_ex=[preprocessing.scale(X_ex)]\n",
    "y_ex_pred = clf.predict_proba(X_ex).tolist()[0]\n",
    "print(\"Prediction:\")\n",
    "for n in range(4):\n",
    "    print(inx2type[n]+\"\\t\"+str(\"%.1f\" % (100*y_ex_pred[n]))+\"%\")\n",
    "plt.imshow(example, cmap='gray', interpolation='nearest');\n"
   ]
  },
  {
   "cell_type": "code",
   "execution_count": 22,
   "metadata": {},
   "outputs": [
    {
     "data": {
      "text/plain": [
       "'Cone'"
      ]
     },
     "execution_count": 22,
     "metadata": {},
     "output_type": "execute_result"
    }
   ],
   "source": [
    "cls[rn]"
   ]
  },
  {
   "cell_type": "code",
   "execution_count": null,
   "metadata": {},
   "outputs": [],
   "source": []
  }
 ],
 "metadata": {
  "kernelspec": {
   "display_name": "Python 3",
   "language": "python",
   "name": "python3"
  },
  "language_info": {
   "codemirror_mode": {
    "name": "ipython",
    "version": 3
   },
   "file_extension": ".py",
   "mimetype": "text/x-python",
   "name": "python",
   "nbconvert_exporter": "python",
   "pygments_lexer": "ipython3",
   "version": "3.8.3"
  }
 },
 "nbformat": 4,
 "nbformat_minor": 4
}
